{
 "cells": [
  {
   "cell_type": "code",
   "execution_count": 12,
   "id": "ec17248e",
   "metadata": {},
   "outputs": [],
   "source": [
    "from scipy.spatial.transform import Rotation\n",
    "import numpy as np\n",
    "import math"
   ]
  },
  {
   "cell_type": "code",
   "execution_count": 13,
   "id": "b665a60c",
   "metadata": {},
   "outputs": [],
   "source": [
    "### x1がy軸に、x2がxy平面上に落ちるような回転行列Rを算出する\n",
    "x1 = np.array([5, 100, 10])\n",
    "x2 = np.array([10, 20, 5])\n",
    "ax = np.array([1,0,0])\n",
    "ay = np.array([0,1,0])"
   ]
  },
  {
   "cell_type": "code",
   "execution_count": 14,
   "id": "1f5e308b",
   "metadata": {},
   "outputs": [
    {
     "data": {
      "text/plain": [
       "array([ 9.45750731e+00,  2.08699678e+01, -2.22044605e-15])"
      ]
     },
     "execution_count": 14,
     "metadata": {},
     "output_type": "execute_result"
    }
   ],
   "source": [
    "#x1がy軸に一致するように回転する\n",
    "nx1 = x1 / np.linalg.norm(x1)\n",
    "axis1 = np.cross(nx1, ay)\n",
    "nax1 = axis1 / np.linalg.norm(axis1)\n",
    "angle1 = math.acos(nx1.dot(ay))\n",
    "rot1 = Rotation.from_rotvec(nax1 * angle1)\n",
    "\n",
    "x1b = rot1.apply(x1)\n",
    "x2b = rot1.apply(x2)\n",
    "\n",
    "x2c = np.array([x2b[0], 0, x2b[2]])\n",
    "nx2c = x2c / np.linalg.norm(x2c)\n",
    "\n",
    "#x2cがxy平面に落ちるような回転行列Rを算出する\n",
    "angle2 = math.acos(nx2c.dot(ax))\n",
    "rot2 = Rotation.from_rotvec(ay * angle2)\n",
    "rot = rot2 * rot1\n",
    "\n",
    "rot2.apply(x2b)"
   ]
  },
  {
   "cell_type": "code",
   "execution_count": 15,
   "id": "94d19970",
   "metadata": {},
   "outputs": [
    {
     "name": "stdout",
     "output_type": "stream",
     "text": [
      "[-2.48689958e-14  1.00623059e+02 -2.33146835e-14]\n",
      "[ 9.45750731e+00  2.08699678e+01 -3.10862447e-15]\n"
     ]
    }
   ],
   "source": [
    "x1_new = rot.apply(x1)\n",
    "x2_new = rot.apply(x2)\n",
    "print(x1_new)\n",
    "print(x2_new)"
   ]
  },
  {
   "cell_type": "code",
   "execution_count": null,
   "id": "8e3b767c",
   "metadata": {},
   "outputs": [],
   "source": []
  }
 ],
 "metadata": {
  "kernelspec": {
   "display_name": "Python 3",
   "language": "python",
   "name": "python3"
  },
  "language_info": {
   "codemirror_mode": {
    "name": "ipython",
    "version": 3
   },
   "file_extension": ".py",
   "mimetype": "text/x-python",
   "name": "python",
   "nbconvert_exporter": "python",
   "pygments_lexer": "ipython3",
   "version": "3.7.6"
  }
 },
 "nbformat": 4,
 "nbformat_minor": 5
}
