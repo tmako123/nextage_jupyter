{
 "cells": [
  {
   "cell_type": "code",
   "execution_count": 1,
   "metadata": {},
   "outputs": [],
   "source": [
    "%matplotlib notebook\n",
    "from pyntcloud import PyntCloud\n",
    "import numpy as np\n",
    "import pandas as pd\n",
    "import cv2\n",
    "import math\n",
    "import random\n",
    "import matplotlib.pyplot as plt # matplotlibの描画系"
   ]
  },
  {
   "cell_type": "code",
   "execution_count": 2,
   "metadata": {},
   "outputs": [],
   "source": [
    "#同次座標系に関する関数\n",
    "def makeHomogeneous(vector):\n",
    "    rows,cols = vector.shape[:2]\n",
    "    ones = [np.ones(cols)]\n",
    "    return np.r_[vector, ones]\n",
    "    \n",
    "def delHomogeneous(vector):\n",
    "    rows,cols = vector.shape[:2]\n",
    "    val = vector[:rows-1]\n",
    "    dim = vector[rows-1:]\n",
    "    return val / dim\n",
    "\n",
    "def generateM(R, t):\n",
    "    M = np.eye(4)\n",
    "    M[:3,:3] = R\n",
    "    M[:3,3] = t.T\n",
    "    return M\n",
    "\n",
    "def invM(M):\n",
    "    R = M[:3,:3].T\n",
    "    t = M[:3,3]\n",
    "    Rt = -R.dot(t)\n",
    "    newM = np.eye((4))\n",
    "    newM[:3,:3] = R\n",
    "    newM[0:3,3] = Rt.T\n",
    "    return newM\n",
    "\n",
    "def sampling3d(point3d, samples):\n",
    "    indexes = np.random.randint(0, point3d.shape[0], samples)\n",
    "    return point3d[indexes]\n",
    "\n",
    "#ワールド座標系の三次元位置をカメラ位置での正規化座標系に投影する\n",
    "def get_proj_pos(vec3d_w,M):\n",
    "    h_vec3d_w = makeHomogeneous(vec3d_w)\n",
    "    vec3d_c = M.dot(h_vec3d_w)\n",
    "    vec2d = vec3d_c[0:2,:]\n",
    "    vec_z = vec3d_c[2,:]\n",
    "    vec2d = vec2d / vec_z\n",
    "    return vec2d\n",
    "\n",
    "#三次元回転行列生成に関する関数\n",
    "    # 物体座標系の 1->2->3 軸で回転させる\n",
    "def generateRotationMatrix(r):\n",
    "    px = r[0]\n",
    "    py = r[1]\n",
    "    pz = r[2]\n",
    "    \n",
    "    Rx = np.array([[1, 0, 0],\n",
    "            [0, np.cos(px), np.sin(px)],\n",
    "            [0, -np.sin(px), np.cos(px)]])\n",
    "    Ry = np.array([[np.cos(py), 0, -np.sin(py)],\n",
    "            [0, 1, 0],\n",
    "            [np.sin(py), 0, np.cos(py)]])\n",
    "    Rz = np.array([[np.cos(pz), np.sin(pz), 0],\n",
    "            [-np.sin(pz), np.cos(pz), 0],\n",
    "            [0, 0, 1]])\n",
    "    R = Rz.dot(Ry).dot(Rx)\n",
    "    return R\n",
    "\n",
    "def generateTransMatrix(t, r):\n",
    "    R = generateRotationMatrix(r)\n",
    "    transMatrix = np.eye(4,4)\n",
    "    for y in range(0,3):\n",
    "        for x in range(0,3):\n",
    "            transMatrix[y, x] = R[y, x]\n",
    "        transMatrix[y, 3] = t[y]\n",
    "    return transMatrix\n",
    "\n",
    "def generatePyntCloud(point3d):\n",
    "    \"\"\"numpy形式の3d点群からpyntcloud用データを生成する。\n",
    "       @param[in] point3d [[x,y,z],...] \n",
    "    \"\"\"\n",
    "    w_color = False\n",
    "    if(point3d.shape[1] == 6):\n",
    "        w_color = True\n",
    "    points = pd.DataFrame(point3d)\n",
    "\n",
    "    if(w_color == False):\n",
    "        points.columns = ['x', 'y', 'z']\n",
    "    else:\n",
    "        points.columns = ['x', 'y', 'z', 'blue', 'green', 'red']\n",
    "    cloud = PyntCloud(points)\n",
    "    return cloud\n",
    "\n",
    "def axisPyntCloud(scale):\n",
    "    # color, [vertexes]\n",
    "    lines = {\n",
    "        '0xFF0000': [[0, 0, 0], [scale, 0, 0]],\n",
    "        '0x00FF00': [[0, 0, 0], [0, scale, 0]],\n",
    "        '0x0000FF': [[0, 0, 0], [0, 0, scale]]\n",
    "    }\n",
    "    return lines\n",
    "\n",
    "def addColor(point3d, color):\n",
    "    return np.concatenate((point3d, np.ones(point3d.shape) * np.array(color)) ,axis=1)\n",
    "\n",
    "def warp3d(point3d, M):\n",
    "    h_point3d = makeHomogeneous(point3d)\n",
    "    h_w_point3d = M.dot(h_point3d)\n",
    "    return delHomogeneous(h_w_point3d)"
   ]
  },
  {
   "cell_type": "code",
   "execution_count": 3,
   "metadata": {
    "scrolled": false
   },
   "outputs": [
    {
     "data": {
      "text/html": [
       "\n",
       "        <iframe\n",
       "            width=\"800\"\n",
       "            height=\"500\"\n",
       "            src=\"pyntcloud_plot.html\"\n",
       "            frameborder=\"0\"\n",
       "            allowfullscreen\n",
       "        ></iframe>\n",
       "        "
      ],
      "text/plain": [
       "<IPython.lib.display.IFrame at 0x7f14591a3a20>"
      ]
     },
     "execution_count": 3,
     "metadata": {},
     "output_type": "execute_result"
    }
   ],
   "source": [
    "#bunnyのデータを読み込み、重心中心に移動する\n",
    "cloud = PyntCloud.from_file(\"data/stanford/bun_zipper.ply\")\n",
    "point3d = sampling3d(cloud.get_mesh_vertices()[0], 1000) \n",
    "point3d = point3d - np.mean(point3d, axis = 0)\n",
    "cloud = generatePyntCloud(addColor(point3d, [0, 255, 0]))\n",
    "cloud.plot(point_size=0.002, opacity=1.0, polylines=axisPyntCloud(0.1), backend=\"threejs\")"
   ]
  },
  {
   "cell_type": "code",
   "execution_count": 4,
   "metadata": {
    "scrolled": false
   },
   "outputs": [
    {
     "data": {
      "text/html": [
       "\n",
       "        <iframe\n",
       "            width=\"800\"\n",
       "            height=\"500\"\n",
       "            src=\"pyntcloud_plot.html\"\n",
       "            frameborder=\"0\"\n",
       "            allowfullscreen\n",
       "        ></iframe>\n",
       "        "
      ],
      "text/plain": [
       "<IPython.lib.display.IFrame at 0x7f14591a3240>"
      ]
     },
     "execution_count": 4,
     "metadata": {},
     "output_type": "execute_result"
    }
   ],
   "source": [
    "#モデルデータ生成\n",
    "obj = point3d.T.copy()\n",
    "\n",
    "noise = np.random.normal(0, 0.005, obj.shape)\n",
    "\n",
    "obs = obj + noise\n",
    "\n",
    "cloud = generatePyntCloud(np.concatenate((addColor(obs.T, [0, 255, 255]), addColor(obj.T,[0, 255, 0]))))\n",
    "cloud.plot(point_size=0.002, opacity=1.0, polylines=axisPyntCloud(0.1), backend=\"threejs\")"
   ]
  },
  {
   "cell_type": "code",
   "execution_count": 5,
   "metadata": {},
   "outputs": [],
   "source": [
    "g_M = []\n",
    "\n",
    "#カメラ位置を生成\n",
    "for i in range(10):\n",
    "    #y軸回り\n",
    "    r = i * math.pi / 180 * 10\n",
    "    scale = 0.2\n",
    "    t = np.array([math.cos(r) - math.sin(r), 0, math.sin(r) + math.cos(r)])\\\n",
    "        * scale\n",
    "    p = np.array([0, r + math.pi * 3 / 4, 0])\n",
    "    dM = generateTransMatrix(t, p)\n",
    "    g_M.append(dM)"
   ]
  },
  {
   "cell_type": "code",
   "execution_count": 6,
   "metadata": {},
   "outputs": [
    {
     "data": {
      "text/html": [
       "\n",
       "        <iframe\n",
       "            width=\"800\"\n",
       "            height=\"500\"\n",
       "            src=\"pyntcloud_plot.html\"\n",
       "            frameborder=\"0\"\n",
       "            allowfullscreen\n",
       "        ></iframe>\n",
       "        "
      ],
      "text/plain": [
       "<IPython.lib.display.IFrame at 0x7f1459e476a0>"
      ]
     },
     "execution_count": 6,
     "metadata": {},
     "output_type": "execute_result"
    }
   ],
   "source": [
    "def addCamera(pose, line = {}, scale = 0.01, color = '0xFFFFFF'):\n",
    "    # color, [vertexes]\n",
    "    frustum = [[0, 0, 0], [scale * 1.3, scale, scale], [scale * 1.3, -scale, scale],\\\n",
    "           [0, 0, 0], [scale * 1.3, -scale, scale], [-scale * 1.3, -scale, scale],\\\n",
    "           [0, 0, 0], [-scale * 1.3, -scale, scale], [-scale * 1.3, scale, scale],\\\n",
    "           [0, 0, 0], [-scale * 1.3, scale, scale], [scale * 1.3, scale, scale]]\n",
    "    \n",
    "    for i, f in enumerate(frustum):\n",
    "        vector = np.array(f).reshape([3,1])\n",
    "        frustum[i] = delHomogeneous(pose.dot(makeHomogeneous(vector))).reshape(-1).tolist()\n",
    "    cam = {\n",
    "        color: frustum\n",
    "    }\n",
    "    line.update(cam)\n",
    "    return line\n",
    "\n",
    "line = axisPyntCloud(0.1)\n",
    "color = '0xFFFFFF'\n",
    "for i, m in enumerate(g_M):\n",
    "    line = addCamera(m, line, 0.01, color + str(i))\n",
    "\n",
    "cloud = generatePyntCloud(np.concatenate((addColor(obs.T, [0, 255, 255]), addColor(obj.T,[0, 255, 0]))))\n",
    "cloud.plot(point_size=0.002, opacity=1.0, polylines=line, backend=\"threejs\")"
   ]
  },
  {
   "cell_type": "code",
   "execution_count": 7,
   "metadata": {
    "scrolled": false
   },
   "outputs": [
    {
     "data": {
      "text/html": [
       "\n",
       "        <iframe\n",
       "            width=\"800\"\n",
       "            height=\"500\"\n",
       "            src=\"pyntcloud_plot.html\"\n",
       "            frameborder=\"0\"\n",
       "            allowfullscreen\n",
       "        ></iframe>\n",
       "        "
      ],
      "text/plain": [
       "<IPython.lib.display.IFrame at 0x7f14b81c9320>"
      ]
     },
     "execution_count": 7,
     "metadata": {},
     "output_type": "execute_result"
    }
   ],
   "source": [
    "norm_K = np.eye(3,3)\n",
    "norm_d = np.zeros(5)\n",
    "\n",
    "#カメラ数等の値を算出する\n",
    "num_camera = len(g_M)\n",
    "num_obj = obj.shape[1]\n",
    "num_fix_camera = 2\n",
    "\n",
    "#ノイズを乗せたカメラ位置を作成する\n",
    "mu = 0.0\n",
    "sigma = 0.01\n",
    "obs_M = []#観測したカメラ位置\n",
    "count = 0\n",
    "for mat in g_M:\n",
    "    if count < num_fix_camera:\n",
    "        err = np.array([[0,0,0]]).reshape(3,1)\n",
    "    else:\n",
    "        err = np.array((random.gauss(mu, sigma), random.gauss(mu, sigma),random.gauss(mu, sigma))).reshape(3,1)\n",
    "    obs_mat = mat.copy()\n",
    "    obs_mat[0:3,3:4] += err\n",
    "    obs_M.append(obs_mat)\n",
    "    count += 1\n",
    "    \n",
    "line = axisPyntCloud(0.1)\n",
    "color = '0xFFFFFF'\n",
    "for i, m in enumerate(g_M):\n",
    "    line = addCamera(m, line, 0.01, color + str(i))\n",
    "\n",
    "color = '0x00FFFF'\n",
    "for i, m in enumerate(obs_M):\n",
    "    line = addCamera(m, line, 0.01, color + str(i + num_camera))\n",
    "    \n",
    "cloud = generatePyntCloud(np.concatenate((addColor(obs.T, [0, 255, 255]), addColor(obj.T,[0, 255, 0]))))\n",
    "cloud.plot(point_size=0.002, opacity=1.0, polylines=line, backend=\"threejs\")"
   ]
  },
  {
   "cell_type": "code",
   "execution_count": 8,
   "metadata": {
    "scrolled": false
   },
   "outputs": [],
   "source": [
    "#推定した三次元位置、カメラ位置を投影する\n",
    "norm_img_points = []\n",
    "for i in range(num_camera):\n",
    "    tmp_cam_num = i\n",
    "    pos2d = get_proj_pos(obj, g_M[i])\n",
    "    norm_img_points.append(pos2d.T)\n",
    "    obs_pos2d = get_proj_pos(obs, obs_M[i])\n",
    "    #plt.figure()\n",
    "    #plt.scatter(pos2d[0,:],pos2d[1,:], color=\"#00ff00\", s=1)\n",
    "    #plt.scatter(obs_pos2d[0,:],obs_pos2d[1,:], color=\"#0088ff\", s=1)\n",
    "    #plt.show()"
   ]
  },
  {
   "cell_type": "markdown",
   "metadata": {},
   "source": [
    "### バンドル調整"
   ]
  },
  {
   "cell_type": "code",
   "execution_count": 9,
   "metadata": {},
   "outputs": [
    {
     "name": "stdout",
     "output_type": "stream",
     "text": [
      "num_camera= 10\n",
      "num_obj= 1000\n",
      "param_camera= 48\n",
      "param_obj= 3000\n"
     ]
    }
   ],
   "source": [
    "param_num_camera = 6 * (num_camera - num_fix_camera)\n",
    "param_num_obj = 3 * num_obj\n",
    "param_num = param_num_camera + param_num_obj\n",
    "num_loop = 10\n",
    "\n",
    "print (\"num_camera= \" + str(num_camera))\n",
    "print (\"num_obj= \" + str(num_obj))\n",
    "print (\"param_camera= \" + str(param_num_camera))\n",
    "print (\"param_obj= \" + str(param_num_obj))"
   ]
  },
  {
   "cell_type": "code",
   "execution_count": 10,
   "metadata": {},
   "outputs": [
    {
     "name": "stdout",
     "output_type": "stream",
     "text": [
      "loop: 0  error: 463.9952438258737\n",
      "loop: 1  error: 11.982938870923654\n",
      "loop: 2  error: 0.057078117387426824\n",
      "loop: 3  error: 0.0013579554215451856\n",
      "loop: 4  error: 0.0013579554215451856\n",
      "loop: 5  error: 0.0013579554215451856\n",
      "loop: 6  error: 0.0012405984210377076\n",
      "loop: 7  error: 0.0011466755289797064\n",
      "loop: 8  error: 0.0010692072526209367\n",
      "loop: 9  error: 0.0010043223474466955\n"
     ]
    }
   ],
   "source": [
    "import copy\n",
    "est_M = copy.deepcopy(obs_M)\n",
    "est_obj = obs.copy()\n",
    "\n",
    "lamda = 0.0\n",
    "\n",
    "for l in range(num_loop):\n",
    "    h_obj = makeHomogeneous(est_obj)\n",
    "    JtJ = np.zeros((param_num, param_num),np.float64)\n",
    "    JtE = np.zeros((param_num, 1),np.float64)\n",
    "    \n",
    "    saved_M = copy.deepcopy(est_M)\n",
    "    saved_obj = est_obj.copy()\n",
    "    \n",
    "    sum_err = 0.0\n",
    "    #各カメラに対してのヤコビアンを計算する\n",
    "    for cam in range(num_camera):\n",
    "        #カメラ座標系におけるobjの位置\n",
    "        vec_Xc = est_M[cam].dot(h_obj)\n",
    "        p_camera = 6 * (cam - num_fix_camera)\n",
    "        R = est_M[cam][0:3,0:3]\n",
    "        \n",
    "        #各objに対してヤコビアンを計算する\n",
    "        for o in range(num_obj):            \n",
    "            p_obj = param_num_camera + 3 * o\n",
    "            Xc = vec_Xc[:,o]\n",
    "            \n",
    "            invZ = 1.0 / Xc[2]\n",
    "            x = Xc[0] * invZ\n",
    "            y = Xc[1] * invZ\n",
    "            xy = x*y\n",
    "            \n",
    "            est_x = norm_img_points[cam][o,0]\n",
    "            est_y = norm_img_points[cam][o,1]\n",
    "            dx = est_x - x\n",
    "            dy = est_y - y\n",
    "            \n",
    "            sum_err += math.sqrt(dx*dx + dy*dy)\n",
    "            \n",
    "            b = np.array([[invZ,\n",
    "                          0.0,\n",
    "                          -x * invZ,\n",
    "                          -xy,\n",
    "                          1.0 + x*x,\n",
    "                          -y]])\n",
    "\n",
    "            c = np.array([[0.0,\n",
    "                          invZ,\n",
    "                          -y * invZ,\n",
    "                          -1.0 - y*y,\n",
    "                          xy,\n",
    "                          x]])\n",
    "            \n",
    "            A = b.T * b + c.T * c\n",
    "            E_A =b.T * dx + c.T * dy\n",
    "                        \n",
    "            a = np.array([[R[0,0] - R[2,0]*x,\n",
    "                           R[0,1] - R[2,1]*x,\n",
    "                           R[0,2] - R[2,2]*x,\n",
    "                           R[1,0] - R[2,0]*y,\n",
    "                           R[1,1] - R[2,1]*y,\n",
    "                           R[1,2] - R[2,2]*y]]) * invZ\n",
    "            \n",
    "            d = a[:,0:3]\n",
    "            e = a[:,3:6]\n",
    "                          \n",
    "            B = b.T * d + c.T * e\n",
    "            C = d.T * d + e.T * e\n",
    "                        \n",
    "            E_B = d.T*dx + e.T*dy\n",
    "            \n",
    "            JtJ[p_obj: p_obj+3, p_obj: p_obj+3] += C\n",
    "            JtE[p_obj: p_obj+3] += E_B\n",
    "\n",
    "            #カメラ0は固定する\n",
    "            if cam < num_fix_camera:\n",
    "                continue\n",
    "                \n",
    "            JtJ[p_camera: p_camera+6, p_camera: p_camera+6] += A\n",
    "                        \n",
    "            JtE[p_camera: p_camera+6] += E_A\n",
    "            JtJ[p_camera: p_camera+6, p_obj: p_obj+3] += B\n",
    "            JtJ[p_obj: p_obj+3, p_camera: p_camera+6] += B.T\n",
    "    \n",
    "    #plt.imshow(JtJ)\n",
    "    #plt.show() \n",
    "    \n",
    "    if(l==0):\n",
    "        lamda = JtJ.trace() / (param_num * 1000)\n",
    "        \n",
    "    for i in range(param_num):\n",
    "        JtJ[i,i]+=lamda\n",
    "    \n",
    "    delta = np.linalg.solve(JtJ, JtE)\n",
    "    \n",
    "    #update_parameter\n",
    "    for cam in range(num_camera - num_fix_camera):\n",
    "        p_camera = 6*cam\n",
    "        dt = delta[p_camera:p_camera+3,:]\n",
    "        omega = delta[p_camera+3:p_camera+6,:]\n",
    "\n",
    "        #補正量計算\n",
    "        angle = math.sqrt(omega[0]*omega[0] + omega[1]*omega[1] + omega[2]*omega[2])\n",
    "        dR = np.eye(3,3)\n",
    "        if angle < 1.0e-12:\n",
    "            pass\n",
    "        else:\n",
    "            dR[0,1] = -omega[2]\n",
    "            dR[0,2] = omega[1]\n",
    "            dR[1,0] = omega[2]\n",
    "            dR[1,2] = -omega[0]\n",
    "            dR[2,0] = -omega[1]\n",
    "            dR[2,1] = omega[0]\n",
    "\n",
    "        delta_M = generateM(dR,dt)\n",
    "        est_M[cam + num_fix_camera] = delta_M.dot(est_M[cam + num_fix_camera])\n",
    "\n",
    "    for o in range(num_obj):\n",
    "        p_obj = param_num_camera + 3 * o\n",
    "        dt = delta[p_obj:p_obj+3,:].reshape(3)\n",
    "        est_obj[:,o] += dt\n",
    "\n",
    "    cur_err = 0.0\n",
    "    #各カメラに対してのヤコビアンを計算する\n",
    "    for cam in range(num_camera):\n",
    "        #カメラ座標系におけるobjの位置\n",
    "        vec_Xc = est_M[cam].dot(h_obj)\n",
    "        p_camera = 6 * cam\n",
    "        R = est_M[cam][0:3,0:3]\n",
    "        \n",
    "        #各objに対してヤコビアンを計算する\n",
    "        for o in range(num_obj):            \n",
    "            p_obj = param_num_camera + 3 * o\n",
    "            \n",
    "            Xc = vec_Xc[:,o]\n",
    "            \n",
    "            invZ = 1.0 / Xc[2]\n",
    "            x = Xc[0] * invZ\n",
    "            y = Xc[1] * invZ\n",
    "            xy = x*y\n",
    "            \n",
    "            est_x = norm_img_points[cam][o,0]\n",
    "            est_y = norm_img_points[cam][o,1]\n",
    "            dx = est_x - x\n",
    "            dy = est_y - y\n",
    "            \n",
    "            cur_err += math.sqrt(dx*dx + dy*dy)\n",
    "   \n",
    "    if cur_err > sum_err:\n",
    "        lamda *= 10.0\n",
    "        est_M = copy.deepcopy(saved_M)\n",
    "        est_obj = saved_obj.copy()\n",
    "\n",
    "    print ('loop:', l, ' error:',sum_err)"
   ]
  },
  {
   "cell_type": "code",
   "execution_count": 12,
   "metadata": {},
   "outputs": [
    {
     "data": {
      "text/html": [
       "\n",
       "        <iframe\n",
       "            width=\"800\"\n",
       "            height=\"500\"\n",
       "            src=\"pyntcloud_plot.html\"\n",
       "            frameborder=\"0\"\n",
       "            allowfullscreen\n",
       "        ></iframe>\n",
       "        "
      ],
      "text/plain": [
       "<IPython.lib.display.IFrame at 0x7f145b4e6b00>"
      ]
     },
     "execution_count": 12,
     "metadata": {},
     "output_type": "execute_result"
    }
   ],
   "source": [
    "line = axisPyntCloud(0.1)\n",
    "color = '0xFFFFFF'\n",
    "for i, m in enumerate(g_M):\n",
    "    line = addCamera(m, line, 0.01, color + str(i))\n",
    "\n",
    "color = '0x00FFFF'\n",
    "for i, m in enumerate(est_M):\n",
    "    line = addCamera(m, line, 0.01, color + str(i + num_camera))\n",
    "    \n",
    "cloud = generatePyntCloud(np.concatenate((addColor(est_obj.T, [0, 255, 255]), addColor(obj.T,[0, 255, 0]))))\n",
    "cloud.plot(point_size=0.002, opacity=1.0, polylines=line, backend=\"threejs\")"
   ]
  },
  {
   "cell_type": "markdown",
   "metadata": {},
   "source": [
    " * Copyright (c) 2018-2021, tmako123\n",
    " * https://twitter.com/tmako123\n",
    " * http://blog.livedoor.jp/tmako123-programming/\n",
    " * All rights reserved.\n",
    " * This file is distributed under the GNU Lesser General Public License v3.0.\n",
    " * The complete license agreement can be obtained at:\n",
    " * http://www.gnu.org/licenses/lgpl-3.0.html"
   ]
  },
  {
   "cell_type": "code",
   "execution_count": null,
   "metadata": {},
   "outputs": [],
   "source": []
  }
 ],
 "metadata": {
  "kernelspec": {
   "display_name": "Python 3",
   "language": "python",
   "name": "python3"
  },
  "language_info": {
   "codemirror_mode": {
    "name": "ipython",
    "version": 3
   },
   "file_extension": ".py",
   "mimetype": "text/x-python",
   "name": "python",
   "nbconvert_exporter": "python",
   "pygments_lexer": "ipython3",
   "version": "3.6.9"
  }
 },
 "nbformat": 4,
 "nbformat_minor": 2
}
