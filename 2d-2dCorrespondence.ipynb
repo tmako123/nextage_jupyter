{
 "cells": [
  {
   "cell_type": "markdown",
   "metadata": {},
   "source": [
    "### 2Dの対応点から2Dの変換パラメータ（3つ)を算出する。"
   ]
  },
  {
   "cell_type": "code",
   "execution_count": 52,
   "metadata": {},
   "outputs": [],
   "source": [
    "%matplotlib inline\n",
    "import cv2\n",
    "import numpy as np\n",
    "import random\n",
    "import math\n",
    "import matplotlib.pyplot as plt # matplotlibの描画系"
   ]
  },
  {
   "cell_type": "code",
   "execution_count": 53,
   "metadata": {},
   "outputs": [],
   "source": [
    "#同次座標系に関する関数\n",
    "def makeHomogeneous(vector):\n",
    "    rows,cols = vector.shape[:2]\n",
    "    ones = [np.ones(cols)]\n",
    "    return np.r_[vector, ones]\n",
    "    \n",
    "def delHomogeneous(vector):\n",
    "    rows,cols = vector.shape[:2]\n",
    "    val = vector[:rows-1]\n",
    "    dim = vector[rows-1:]\n",
    "    return val / dim\n",
    "\n",
    "#二次元回転行列生成に関する関数\n",
    "def generateRotationMatrix(r): \n",
    "    Rz = np.array(\n",
    "            [[np.cos(r), np.sin(r)],\n",
    "            [-np.sin(r), np.cos(r)]])\n",
    "    return Rz\n",
    "\n",
    "def generateTransMatrix(t, r):\n",
    "    R = generateRotationMatrix(r)\n",
    "    transMatrix = np.eye(3,3)\n",
    "    for y in range(0,2):\n",
    "        for x in range(0,2):\n",
    "            transMatrix[y, x] = R[y, x]\n",
    "        transMatrix[y, 2] = t[y]\n",
    "    return transMatrix"
   ]
  },
  {
   "cell_type": "code",
   "execution_count": 88,
   "metadata": {},
   "outputs": [],
   "source": [
    "#データ生成\n",
    "box_size_x = 10\n",
    "box_size_y = 5\n",
    "step = 10\n",
    "\n",
    "obj = np.empty((2,0), float)\n",
    "for i in range(0, box_size_x):\n",
    "    x = i * step\n",
    "    y = 0\n",
    "    vec = np.array([x, y])\n",
    "    obj = np.hstack([np.c_[obj], np.c_[vec]])\n",
    "    y = box_size_y * step\n",
    "    vec = np.array([x, y])\n",
    "    obj = np.hstack([np.c_[obj], np.c_[vec]])\n",
    "\n",
    "for j in range(0, box_size_y):\n",
    "    x = 0\n",
    "    y = j * step\n",
    "    vec = np.array([x, y])\n",
    "    obj = np.hstack([np.c_[obj], np.c_[vec]])\n",
    "    x = box_size_x * step\n",
    "    vec = np.array([x, y])\n",
    "    obj = np.hstack([np.c_[obj], np.c_[vec]])"
   ]
  },
  {
   "cell_type": "code",
   "execution_count": 89,
   "metadata": {},
   "outputs": [
    {
     "data": {
      "image/png": "[encoded data removed]",
      "text/plain": [
       "<matplotlib.figure.Figure at 0x1ee8da55358>"
      ]
     },
     "metadata": {},
     "output_type": "display_data"
    }
   ],
   "source": [
    "# グラフ作成\n",
    "fig = plt.figure()\n",
    "\n",
    "# グラフ描画\n",
    "plt.plot(obj[0], obj[1], \"o\", color=\"#cccccc\", ms=4, mew=0.5)\n",
    "plt.show()"
   ]
  },
  {
   "cell_type": "code",
   "execution_count": 90,
   "metadata": {},
   "outputs": [
    {
     "name": "stdout",
     "output_type": "stream",
     "text": [
      "[[  0.98078528   0.19509032  20.        ]\n",
      " [ -0.19509032   0.98078528   0.        ]\n",
      " [  0.           0.           1.        ]]\n"
     ]
    }
   ],
   "source": [
    "#二次元姿勢変換データ作成\n",
    "t = np.array([20, 0])\n",
    "p = np.array([np.pi / 16])\n",
    "dM = generateTransMatrix(t, p)\n",
    "print (dM)"
   ]
  },
  {
   "cell_type": "code",
   "execution_count": 104,
   "metadata": {},
   "outputs": [],
   "source": [
    "#観測データ作成\n",
    "#座標変換\n",
    "obj_h = makeHomogeneous(obj)\n",
    "obs_h = dM.dot(obj_h)\n",
    "obs = delHomogeneous(obs_h)\n",
    "\n",
    "#ノイズ付加\n",
    "obs += np.random.randn(obs.shape[0],obs.shape[1])"
   ]
  },
  {
   "cell_type": "code",
   "execution_count": 92,
   "metadata": {},
   "outputs": [
    {
     "data": {
      "image/png": "[encoded data removed]",
      "text/plain": [
       "<matplotlib.figure.Figure at 0x1ee8eb936a0>"
      ]
     },
     "metadata": {},
     "output_type": "display_data"
    }
   ],
   "source": [
    "# グラフ作成\n",
    "fig = plt.figure()\n",
    "\n",
    "# グラフ描画\n",
    "plt.plot(obj[0], obj[1], \"o\", color=\"#cccccc\", ms=4, mew=0.5)\n",
    "plt.plot(obs[0], obs[1], \"o\", color=\"#00cccc\", ms=4, mew=0.5)\n",
    "plt.show()"
   ]
  },
  {
   "cell_type": "markdown",
   "metadata": {},
   "source": [
    "### ヤコビアン計算\n",
    "\n",
    "$X_0 = (x_0, y_0)$を$X_1 = (x_1, y_1)$に変換するとき、  \n",
    "$$\n",
    "e = \\frac{1}{2} \\Sigma (X_0 - X_1)^2\n",
    "$$\n",
    "を最小化するような幾何変換$ \\Delta R, \\Delta t$を最小二乗法により算出する。  \n",
    "変換式は\n",
    "$$ \n",
    "\\begin{eqnarray}\n",
    "  \\left(\n",
    "    \\begin{array}{c}\n",
    "      x_{1} \\\\\n",
    "      y_{1}\n",
    "    \\end{array}\n",
    "  \\right)\n",
    "  &=&\n",
    "  \\Delta R\n",
    "  \\left(\n",
    "    \\begin{array}{c}\n",
    "      x_{0}\\\\\n",
    "      y_{0}\n",
    "    \\end{array}\n",
    "  \\right)\n",
    "  +\n",
    "  \\Delta t\n",
    "  \\\\\n",
    "  &=&\n",
    "  \\left(\n",
    "    \\begin{array}{c}\n",
    "      0 & - \\Delta \\theta \\\\\n",
    "      \\Delta \\theta & 0\n",
    "    \\end{array}\n",
    "  \\right)\n",
    "  \\left(\n",
    "    \\begin{array}{c}\n",
    "      x_{0}\\\\\n",
    "      y_{0}\n",
    "    \\end{array}\n",
    "  \\right)\n",
    "  +\n",
    "  \\left(\n",
    "    \\begin{array}{c}\n",
    "      \\Delta t_{x}\\\\\n",
    "      \\Delta t_{y}\n",
    "    \\end{array}\n",
    "  \\right)\n",
    "  \\end{eqnarray}\n",
    "$$ \n",
    "\n",
    "このとき、ヤコビ行列$J$は\n",
    "$$ \n",
    "\\begin{eqnarray}\n",
    "  J\n",
    "  &=&\n",
    "  \\left(\n",
    "    \\begin{array}{c,c,c}\n",
    "      \\frac{\\delta x}{\\delta \\theta} &\n",
    "      \\frac{\\delta x}{\\delta t_{x}} &\n",
    "      \\frac{\\delta x}{\\delta t_{y}} \\\\\n",
    "      \\frac{\\delta y}{\\delta \\theta} &\n",
    "      \\frac{\\delta y}{\\delta t_{x}} &\n",
    "      \\frac{\\delta y}{\\delta t_{y}}\n",
    "    \\end{array}\n",
    "  \\right)\n",
    "  \\\\\n",
    "  &=&\n",
    "  \\left(\n",
    "    \\begin{array}{c,c,c}\n",
    "    1 & 0 & - y_0\\\\\n",
    "    0 & 1 & x_0\n",
    "    \\end{array}\n",
    "  \\right)\n",
    "  \\end{eqnarray}\n",
    "$$ \n",
    "となる。  \n",
    "ところで、各パラメータによる微分が0(極値)となる条件は$\\Delta E = 0$である。\n",
    "つまり、\n",
    "$$\n",
    "J^tJ \\Delta = J^Te \n",
    "$$\n",
    "$$\n",
    "\\Delta = (J^tJ)^{-1}J^Te \n",
    "$$\n",
    "である。これを解く各種solverは多数ライブラリが存在しており、一般的には$J^tJ$と$J^Te$を引数として取る。そこで、繰り返し計算により$\\Delta R, \\Delta t$を計算し$J^tJ$と$J^Te$を更新し、徐々に誤差を小さくする。"
   ]
  },
  {
   "cell_type": "code",
   "execution_count": 93,
   "metadata": {},
   "outputs": [],
   "source": [
    "#ヤコビアン計算\n",
    "def calcJacob(obj, obs, deltaPose, JtJ, JtE):\n",
    "    if obj.shape[1] != obs.shape[1]:\n",
    "        print (\"ERROR data size is not the same!\")\n",
    "    #座標変換\n",
    "    obj_h = makeHomogeneous(obj)\n",
    "    obs_h = deltaPose.dot(obj_h)\n",
    "    est = delHomogeneous(obs_h)\n",
    "    \n",
    "    for (p, q) in zip(est.transpose(), obs.transpose()):\n",
    "        x = p[0]\n",
    "        y = p[1]\n",
    "        ex = q[0] - p[0]\n",
    "        ey = q[1] - p[1]\n",
    "        \n",
    "        JtJ[0,0] += 1.0\n",
    "        JtJ[0,2] += -y\n",
    "        JtJ[1,1] += 1.0\n",
    "        JtJ[1,2] += x\n",
    "        JtJ[2,2] += x * x + y * y\n",
    "        \n",
    "        JtE[0,0] += ex\n",
    "        JtE[1,0] += ey\n",
    "        JtE[2,0] += -ex * y + x * ey\n",
    "        \n",
    "    #fill\n",
    "    JtJ[1,0] = JtJ[0,1]\n",
    "    JtJ[2,0] = JtJ[0,2]\n",
    "    JtJ[2,1] = JtJ[1,2]"
   ]
  },
  {
   "cell_type": "code",
   "execution_count": 94,
   "metadata": {},
   "outputs": [],
   "source": [
    "def calcPose2D(obj, obs, deltaPose):\n",
    "\n",
    "    #ヤコビ行列生成\n",
    "    JtJ = np.zeros((3,3))\n",
    "    JtE = np.zeros((3,1))\n",
    "    calcJacob(obj, obs, deltaPose, JtJ, JtE)\n",
    "    \n",
    "    #solve\n",
    "    x = np.linalg.solve(JtJ, JtE)\n",
    "    t = x[0:2]\n",
    "    omega = x[2]\n",
    "\n",
    "    #補正量計算\n",
    "    angle = math.sqrt(omega*omega)\n",
    "    dR = np.eye(3,3)\n",
    "    if angle < 1.0e-12:\n",
    "        print (\"a\")\n",
    "    else:\n",
    "        dR[0,1] = -omega\n",
    "        dR[1,0] = omega\n",
    "    \n",
    "    #行列生成\n",
    "    transMatrix = np.eye(3,3)\n",
    "    for y in range(0,2):\n",
    "        for x in range(0,2):\n",
    "            transMatrix[y, x] = dR[y, x]\n",
    "        transMatrix[y, 2] = t[y]\n",
    "    return transMatrix.dot(deltaPose)"
   ]
  },
  {
   "cell_type": "code",
   "execution_count": 101,
   "metadata": {},
   "outputs": [
    {
     "name": "stdout",
     "output_type": "stream",
     "text": [
      "[[  1.           0.19397421  19.21233554]\n",
      " [ -0.19397421   1.          -0.58004095]\n",
      " [  0.           0.           1.        ]]\n",
      "[[  0.99924301   0.19787673  19.15660292]\n",
      " [ -0.19787673   0.99924301  -0.38026052]\n",
      " [  0.           0.           1.        ]]\n",
      "[[  0.99922748   0.19795518  19.15549736]\n",
      " [ -0.19795518   0.99922748  -0.37623688]\n",
      " [  0.           0.           1.        ]]\n",
      "[[  0.99922716   0.19795676  19.15547512]\n",
      " [ -0.19795676   0.99922716  -0.37615593]\n",
      " [  0.           0.           1.        ]]\n",
      "[[  0.99922716   0.19795679  19.15547467]\n",
      " [ -0.19795679   0.99922716  -0.3761543 ]\n",
      " [  0.           0.           1.        ]]\n"
     ]
    }
   ],
   "source": [
    "estPose = np.eye(3,3)\n",
    "#適当に回す。\n",
    "for i in range(5):\n",
    "    estPose = calcPose2D(obj, obs, estPose)\n",
    "    print (estPose)"
   ]
  },
  {
   "cell_type": "code",
   "execution_count": 102,
   "metadata": {},
   "outputs": [],
   "source": [
    "#座標変換\n",
    "obj_h = makeHomogeneous(obj)\n",
    "est_h = estPose.dot(obj_h)\n",
    "est = delHomogeneous(est_h)"
   ]
  },
  {
   "cell_type": "code",
   "execution_count": 103,
   "metadata": {},
   "outputs": [
    {
     "data": {
      "image/png": "[encoded data removed]",
      "text/plain": [
       "<matplotlib.figure.Figure at 0x1ee8eb04e80>"
      ]
     },
     "metadata": {},
     "output_type": "display_data"
    }
   ],
   "source": [
    "# グラフ作成\n",
    "fig = plt.figure()\n",
    "\n",
    "# グラフ描画\n",
    "plt.plot(est[0], est[1], \"o\", color=\"#cccccc\", ms=4, mew=0.5)\n",
    "plt.plot(obs[0], obs[1], \"o\", color=\"#00cccc\", ms=4, mew=0.5)\n",
    "plt.show()"
   ]
  },
  {
   "cell_type": "code",
   "execution_count": null,
   "metadata": {},
   "outputs": [],
   "source": []
  },
  {
   "cell_type": "code",
   "execution_count": null,
   "metadata": {},
   "outputs": [],
   "source": []
  },
  {
   "cell_type": "code",
   "execution_count": null,
   "metadata": {},
   "outputs": [],
   "source": []
  }
 ],
 "metadata": {
  "kernelspec": {
   "display_name": "Python 3",
   "language": "python",
   "name": "python3"
  },
  "language_info": {
   "codemirror_mode": {
    "name": "ipython",
    "version": 3
   },
   "file_extension": ".py",
   "mimetype": "text/x-python",
   "name": "python",
   "nbconvert_exporter": "python",
   "pygments_lexer": "ipython3",
   "version": "3.6.5"
  }
 },
 "nbformat": 4,
 "nbformat_minor": 1
}
