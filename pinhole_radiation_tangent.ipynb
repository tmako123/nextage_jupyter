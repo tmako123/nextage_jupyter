{
 "cells": [
  {
   "cell_type": "code",
   "execution_count": 1,
   "metadata": {},
   "outputs": [],
   "source": [
    "%matplotlib inline\n",
    "import numpy as np\n",
    "import matplotlib.pyplot as plt"
   ]
  },
  {
   "cell_type": "code",
   "execution_count": 2,
   "metadata": {},
   "outputs": [],
   "source": [
    "distortion_coefficients = np.array([-0.22532, 0.03475, -0.00030, -0.00034])\n",
    "focal_length = np.array([285.9229, 281.8986])\n",
    "principal_point = np.array([421.1283, 403.1331])\n",
    "image_size = np.array([848, 800])"
   ]
  },
  {
   "cell_type": "code",
   "execution_count": 3,
   "metadata": {},
   "outputs": [],
   "source": [
    "#generate mesh grid\n",
    "n = 8\n",
    "scale = 50\n",
    "x = np.arange(int(image_size[0] / scale))\n",
    "y = np.arange(int(image_size[1] / scale))\n",
    "# 3×3の格子点を作成\n",
    "X, Y = np.meshgrid(x, y)\n",
    "pt = np.c_[X.ravel(), Y.ravel()].T * scale"
   ]
  },
  {
   "cell_type": "code",
   "execution_count": 4,
   "metadata": {},
   "outputs": [
    {
     "data": {
      "text/plain": [
       "<matplotlib.collections.PathCollection at 0x2be2d44ba58>"
      ]
     },
     "execution_count": 4,
     "metadata": {},
     "output_type": "execute_result"
    },
    {
     "data": {
      "image/png": "[encoded data removed]",
      "text/plain": [
       "<Figure size 432x288 with 1 Axes>"
      ]
     },
     "metadata": {
      "needs_background": "light"
     },
     "output_type": "display_data"
    }
   ],
   "source": [
    "im = plt.subplot()\n",
    "im.set_aspect('equal')\n",
    "im.scatter(pt[0], pt[1])"
   ]
  },
  {
   "cell_type": "code",
   "execution_count": 5,
   "metadata": {},
   "outputs": [],
   "source": [
    "def normalize(focal_length, principal_point, pt):\n",
    "    return (pt - principal_point.reshape(2,1)) / focal_length.reshape(2,1)\n",
    "\n",
    "def denormalize(focal_length, principal_point, uv):\n",
    "    return uv * focal_length.reshape(2,1) + principal_point.reshape(2,1)\n",
    "\n",
    "def distortion(dist, pts):\n",
    "    k1 = dist[0]\n",
    "    k2 = dist[1]\n",
    "    p1 = dist[2]\n",
    "    p2 = dist[3]\n",
    "    x = pts[0]\n",
    "    y = pts[1]\n",
    "    xx = x * x\n",
    "    yy = y * y\n",
    "    xy = x * y\n",
    "    xx_yy = xx + yy\n",
    "    rad_dist = k1 * xx_yy + k2 * xx_yy * xx_yy\n",
    "    d_x = x * rad_dist + 2.0 * p1 * xy + p2 * (xx_yy + 2 * xx) \n",
    "    d_y = y * rad_dist + 2.0 * p2 * xy + p1 * (xx_yy + 2 * yy)  \n",
    "    return np.c_[d_x,d_y].T\n",
    "\n",
    "def undistortion(dist, duv):\n",
    "    mx_u = distortion(distortion_coefficients, duv)\n",
    "    for i in range(n):\n",
    "        mx_u = duv - distortion(distortion_coefficients, mx_u)\n",
    "    return mx_u\n",
    "    "
   ]
  },
  {
   "cell_type": "code",
   "execution_count": 6,
   "metadata": {},
   "outputs": [
    {
     "data": {
      "text/plain": [
       "<matplotlib.collections.PathCollection at 0x2be2d4f96d8>"
      ]
     },
     "execution_count": 6,
     "metadata": {},
     "output_type": "execute_result"
    },
    {
     "data": {
      "image/png": "[encoded data removed]",
      "text/plain": [
       "<Figure size 432x288 with 1 Axes>"
      ]
     },
     "metadata": {
      "needs_background": "light"
     },
     "output_type": "display_data"
    }
   ],
   "source": [
    "uv = normalize(focal_length, principal_point, pt)\n",
    "duv = uv + distortion(distortion_coefficients, uv)\n",
    "dpt = denormalize(focal_length, principal_point, duv)\n",
    "\n",
    "im = plt.subplot()\n",
    "im.set_aspect('equal')\n",
    "im.scatter(dpt[0], dpt[1])"
   ]
  },
  {
   "cell_type": "code",
   "execution_count": 7,
   "metadata": {},
   "outputs": [
    {
     "data": {
      "text/plain": [
       "<matplotlib.collections.PathCollection at 0x2be2d556160>"
      ]
     },
     "execution_count": 7,
     "metadata": {},
     "output_type": "execute_result"
    },
    {
     "data": {
      "image/png": "[encoded data removed]",
      "text/plain": [
       "<Figure size 432x288 with 1 Axes>"
      ]
     },
     "metadata": {
      "needs_background": "light"
     },
     "output_type": "display_data"
    }
   ],
   "source": [
    "e_uv = undistortion(distortion_coefficients, duv)\n",
    "ept = denormalize(focal_length, principal_point, e_uv)\n",
    "\n",
    "im = plt.subplot()\n",
    "im.set_aspect('equal')\n",
    "im.scatter(ept[0], ept[1])"
   ]
  }
 ],
 "metadata": {
  "kernelspec": {
   "display_name": "Python 3",
   "language": "python",
   "name": "python3"
  },
  "language_info": {
   "codemirror_mode": {
    "name": "ipython",
    "version": 3
   },
   "file_extension": ".py",
   "mimetype": "text/x-python",
   "name": "python",
   "nbconvert_exporter": "python",
   "pygments_lexer": "ipython3",
   "version": "3.6.8"
  }
 },
 "nbformat": 4,
 "nbformat_minor": 2
}
