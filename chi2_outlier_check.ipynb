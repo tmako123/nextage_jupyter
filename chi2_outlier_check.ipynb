{
 "cells": [
  {
   "cell_type": "code",
   "execution_count": 24,
   "metadata": {},
   "outputs": [],
   "source": [
    "%matplotlib inline\n",
    "import numpy as np\n",
    "import random\n",
    "import math\n",
    "from scipy.special import ellipe\n",
    "import matplotlib.pyplot as plt # matplotlibの描画系"
   ]
  },
  {
   "cell_type": "markdown",
   "metadata": {},
   "source": [
    "### カイ二乗分布を利用した外れ値検知\n",
    "\n",
    "データの平均と共分散を以下のように計算する\n",
    "$$\n",
    "\\mu = \\frac{1}{N} \\Sigma (x)\n",
    "$$\n",
    "$$\n",
    "\\Sigma = \\frac{1}{N} \\Sigma_k (x_k - \\mu)(x_k - \\mu)^T\n",
    "$$\n",
    "マハラノビス距離を次のように定義する。\n",
    "$$\n",
    "d_\\Sigma = \\sqrt{(x_k - \\mu)^T \\Sigma^{-1} (x_k - \\mu))}\n",
    "$$\n",
    "\n",
    "ここで、例えば自由度が2、5%の有意水準だとするとカイ二乗分布において、\n",
    "$$\n",
    "\\chi^2 = 5.991\n",
    "$$\n",
    "\n",
    "以上から、外れ値か否かは、\n",
    "\n",
    "$$\n",
    "  \\begin{cases}\n",
    "    inlier & (\\chi^2 >= d_\\Sigma^2) \\\\\n",
    "    outlier & (otherwise)\n",
    "  \\end{cases}\n",
    "$$\n",
    "で求まる。"
   ]
  },
  {
   "cell_type": "code",
   "execution_count": 25,
   "metadata": {},
   "outputs": [],
   "source": [
    "n = 100\n",
    "points = np.random.randn(2, n)\n",
    "chi2 = 5.991 #自由度２、５％の有意水準"
   ]
  },
  {
   "cell_type": "code",
   "execution_count": 51,
   "metadata": {},
   "outputs": [
    {
     "data": {
      "image/png": "[encoded data removed]",
      "text/plain": [
       "<Figure size 432x288 with 1 Axes>"
      ]
     },
     "metadata": {
      "needs_background": "light"
     },
     "output_type": "display_data"
    }
   ],
   "source": [
    "fig = plt.figure()\n",
    "ax = fig.add_subplot()\n",
    "ax.grid()\n",
    "ax.set_aspect('equal')\n",
    "ax.plot(points[0], points[1], \"o\", color=\"#00cccc\", ms=4, mew=0.5)\n",
    "plt.show()"
   ]
  },
  {
   "cell_type": "code",
   "execution_count": 27,
   "metadata": {},
   "outputs": [],
   "source": [
    "mu = points.mean(axis = 1).reshape([2,1])\n",
    "cov = points.dot(points.transpose()) / n\n",
    "cov_inv = np.linalg.inv(cov)\n",
    "mu = np.zeros([2,1]) #今回は母集団の平均とする"
   ]
  },
  {
   "cell_type": "code",
   "execution_count": 28,
   "metadata": {},
   "outputs": [],
   "source": [
    "ds = points - mu\n",
    "points_inlier = np.empty((2,0))\n",
    "points_outlier = np.empty((2,0))\n",
    "for i in range(ds.shape[1]):\n",
    "    d = ds[:,i].reshape([2,1])\n",
    "    chi = d.transpose().dot(cov_inv).dot(d)\n",
    "    if(chi > chi2):\n",
    "        #print(\"outlier\", chi)\n",
    "        points_outlier = np.append(points_outlier, d, axis=1)\n",
    "    else:\n",
    "        #print(\"inlier\", chi)\n",
    "        points_inlier = np.append(points_inlier, d, axis=1)"
   ]
  },
  {
   "cell_type": "code",
   "execution_count": 52,
   "metadata": {},
   "outputs": [
    {
     "data": {
      "image/png": "[encoded data removed]",
      "text/plain": [
       "<Figure size 432x288 with 1 Axes>"
      ]
     },
     "metadata": {
      "needs_background": "light"
     },
     "output_type": "display_data"
    }
   ],
   "source": [
    "fig = plt.figure()\n",
    "ax = fig.add_subplot()\n",
    "ax.grid()\n",
    "ax.set_aspect('equal')\n",
    "ax.plot(points_inlier[0], points_inlier[1], \"o\", color=\"#00cccc\", ms=4, mew=0.5)\n",
    "ax.plot(points_outlier[0], points_outlier[1], \"o\", color=\"#cccc00\", ms=4, mew=0.5)\n",
    "plt.show()"
   ]
  },
  {
   "cell_type": "code",
   "execution_count": null,
   "metadata": {},
   "outputs": [],
   "source": []
  },
  {
   "cell_type": "code",
   "execution_count": 53,
   "metadata": {},
   "outputs": [],
   "source": [
    "points_test = np.random.randn(2, 100) * 2\n",
    "ds = points_test - mu\n",
    "points_inlier = np.empty((2,0))\n",
    "points_outlier = np.empty((2,0))\n",
    "for i in range(ds.shape[1]):\n",
    "    d = ds[:,i].reshape([2,1])\n",
    "    chi = d.transpose().dot(cov_inv).dot(d)\n",
    "    if(chi > chi2):\n",
    "        #print(\"outlier\", chi)\n",
    "        points_outlier = np.append(points_outlier, d, axis=1)\n",
    "    else:\n",
    "        #print(\"inlier\", chi)\n",
    "        points_inlier = np.append(points_inlier, d, axis=1)"
   ]
  },
  {
   "cell_type": "code",
   "execution_count": 55,
   "metadata": {},
   "outputs": [
    {
     "data": {
      "image/png": "[encoded data removed]",
      "text/plain": [
       "<Figure size 432x288 with 1 Axes>"
      ]
     },
     "metadata": {
      "needs_background": "light"
     },
     "output_type": "display_data"
    }
   ],
   "source": [
    "fig = plt.figure()\n",
    "ax = fig.add_subplot()\n",
    "ax.grid()\n",
    "ax.set_aspect('equal')\n",
    "ax.plot(points_inlier[0], points_inlier[1], \"o\", color=\"#00cccc\", ms=4, mew=0.5)\n",
    "ax.plot(points_outlier[0], points_outlier[1], \"o\", color=\"#cccc00\", ms=4, mew=0.5)\n",
    "plt.show()"
   ]
  },
  {
   "cell_type": "code",
   "execution_count": null,
   "metadata": {},
   "outputs": [],
   "source": []
  },
  {
   "cell_type": "code",
   "execution_count": 59,
   "metadata": {},
   "outputs": [],
   "source": [
    "#https://python.atelierkobato.com/ellipse/\n",
    "# 楕円クラスを定義\n",
    "class Ellipse:\n",
    "    # 円周率の近似値をクラス変数として定義\n",
    "    pi = np.pi\n",
    "\n",
    "    # インスタンス変数の定義\n",
    "    def __init__(self, a, b, center=(0,0), n=129):\n",
    "        self.major_radius = a  # 長軸半径\n",
    "        self.minor_radius = b  # 短軸半径\n",
    "        self.center = center  # 中心点の座標\n",
    "        self.f_distance = np.sqrt(a**2 - b**2)  # 原点から焦点までの距離\n",
    "        \n",
    "        # 右側焦点の座標と左側焦点の座標\n",
    "        self.focus_1 = (self.center[0] + self.f_distance, self.center[1])\n",
    "        self.focus_2 = (self.focus_1[0] - 2 * self.f_distance, self.center[1])\n",
    "        \n",
    "        self.eccentricity = self.f_distance / a  # 離心率\n",
    "        self.area =self.pi * self.major_radius * self.minor_radius  # 面積\n",
    "        self.perimeter = 4 * ellipe(self.eccentricity)  # 周の長さ\n",
    "        \n",
    "        t = np.linspace(0, 2*np.pi, n)\n",
    "        self.x = self.center[0] + self.major_radius * np.cos(t)\n",
    "        self.y = self.center[1] + self.minor_radius * np.sin(t)\n",
    "\n",
    "    # 回転メソッド\n",
    "    # angleで回転角度(ラジアン)を指定\n",
    "    # r_axisで回転軸の座標を指定\n",
    "    def rotate(self, angle, r_axis):\n",
    "\n",
    "        # 回転行列\n",
    "        R = np.array([[np.cos(angle), -np.sin(angle)],\n",
    "                      [np.sin(angle),  np.cos(angle)]])\n",
    "\n",
    "        # 焦点の回転\n",
    "        p = np.array(r_axis)\n",
    "        self.focus_1 = np.dot(R, self.focus_1 - p) + p\n",
    "        self.focus_2 = np.dot(R, self.focus_2 - p) + p\n",
    "\n",
    "        # 楕円の回転\n",
    "        q = np.array([[r_axis[0]],[r_axis[1]]])\n",
    "        arr = np.vstack((self.x, self.y))\n",
    "        arr_2 = np.dot(R, arr - q) + q\n",
    "        self.x = arr_2[0]\n",
    "        self.y = arr_2[1]\n",
    "\n",
    "    # データ一覧表示メソッド\n",
    "    def show_data(self):\n",
    "        print(\" 長軸半径　{}\\n\".format(self.major_radius),\n",
    "              \"短軸半径　{}\\n\".format(self.minor_radius),\n",
    "              \"中心点　{}\\n\".format(self.center),\n",
    "              \"第1焦点　{}\\n\".format(self.focus_1),\n",
    "              \"第2焦点　{}\\n\".format(self.focus_2),\n",
    "              \"離心率　{}\\n\".format(self.eccentricity),\n",
    "              \"面積　{}\\n\".format(self.area),\n",
    "              \"弧長　{}\\n\".format(self.perimeter))\n",
    "\n",
    "    # 楕円の描画メソッド\n",
    "    # oval_colorで楕円の線の色を指定\n",
    "    # display_focusをTrueに設定すると焦点を表示\n",
    "    # display_centerをTrueに設定すると中心点を表示\n",
    "    def draw(self, ax, n=129, linestyle=\"-\", oval_color=\"black\",\n",
    "             display_focus=False, focus_color=\"black\",\n",
    "             display_center=False, center_color=\"black\"):\n",
    "\n",
    "        ax.plot(self.x, self.y, color=oval_color, linestyle=linestyle)\n",
    "\n",
    "        if display_focus == True:\n",
    "            ax.scatter(self.focus_1[0], self.focus_1[1], color=focus_color)\n",
    "            ax.scatter(self.focus_2[0], self.focus_2[1], color=focus_color)\n",
    "        \n",
    "        if display_center == True:\n",
    "            ax.scatter(self.center[0], self.center[1], color=center_color)"
   ]
  },
  {
   "cell_type": "code",
   "execution_count": 60,
   "metadata": {},
   "outputs": [
    {
     "name": "stdout",
     "output_type": "stream",
     "text": [
      "[1.00359541 1.45522092]\n",
      "2.952664648876731 2.452048147516406 -1.9128521202743294\n"
     ]
    }
   ],
   "source": [
    "eigen, eigen_vector = np.linalg.eig(cov)\n",
    "print(eigen)\n",
    "a = np.sqrt(chi2 * eigen[np.argmax(eigen)])\n",
    "b = np.sqrt(chi2 * eigen[np.argmin(eigen)])\n",
    "theta = math.atan2(eigen_vector[1, np.argmax(eigen)], eigen_vector[0, np.argmax(eigen)])\n",
    "print(a, b, theta)"
   ]
  },
  {
   "cell_type": "code",
   "execution_count": 61,
   "metadata": {},
   "outputs": [
    {
     "data": {
      "image/png": "[encoded data removed]",
      "text/plain": [
       "<Figure size 432x432 with 1 Axes>"
      ]
     },
     "metadata": {
      "needs_background": "light"
     },
     "output_type": "display_data"
    }
   ],
   "source": [
    "oval = Ellipse(a, b)\n",
    "oval.rotate(np.pi/4, (0, 0))\n",
    "fig = plt.figure(figsize=(6, 6))\n",
    "ax = fig.add_subplot()\n",
    "ax.grid()\n",
    "ax.set_aspect('equal')\n",
    "ax.plot(points_inlier[0], points_inlier[1], \"o\", color=\"#00cccc\", ms=4, mew=0.5)\n",
    "ax.plot(points_outlier[0], points_outlier[1], \"o\", color=\"#cccc00\", ms=4, mew=0.5)\n",
    "oval.draw(ax)\n",
    "plt.show()"
   ]
  },
  {
   "cell_type": "code",
   "execution_count": null,
   "metadata": {},
   "outputs": [],
   "source": []
  }
 ],
 "metadata": {
  "kernelspec": {
   "display_name": "Python 3",
   "language": "python",
   "name": "python3"
  },
  "language_info": {
   "codemirror_mode": {
    "name": "ipython",
    "version": 3
   },
   "file_extension": ".py",
   "mimetype": "text/x-python",
   "name": "python",
   "nbconvert_exporter": "python",
   "pygments_lexer": "ipython3",
   "version": "3.7.6"
  }
 },
 "nbformat": 4,
 "nbformat_minor": 4
}
