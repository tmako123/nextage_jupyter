{
 "cells": [
  {
   "cell_type": "code",
   "execution_count": 1,
   "metadata": {},
   "outputs": [],
   "source": [
    "%matplotlib inline\n",
    "import numpy as np\n",
    "import matplotlib.pyplot as plt\n",
    "from copy import deepcopy"
   ]
  },
  {
   "cell_type": "code",
   "execution_count": 2,
   "metadata": {},
   "outputs": [],
   "source": [
    "distortion_coefficients = np.array([-0.0054, 0.0506, -0.0505, 0.0103])\n",
    "focal_length = np.array([288.6819, 284.8705])\n",
    "principal_point = np.array([420.2098, 402.7797])\n",
    "image_size = np.array([848, 800])"
   ]
  },
  {
   "cell_type": "code",
   "execution_count": 3,
   "metadata": {},
   "outputs": [],
   "source": [
    "#generate mesh grid\n",
    "n = 8\n",
    "scale = 50\n",
    "x = np.arange(int(image_size[0] / scale))\n",
    "y = np.arange(int(image_size[1] / scale))\n",
    "# 3×3の格子点を作成\n",
    "X, Y = np.meshgrid(x, y)\n",
    "pt = np.c_[X.ravel(), Y.ravel()].T * scale"
   ]
  },
  {
   "cell_type": "code",
   "execution_count": 4,
   "metadata": {},
   "outputs": [
    {
     "data": {
      "text/plain": [
       "<matplotlib.collections.PathCollection at 0x262e3b4bb38>"
      ]
     },
     "execution_count": 4,
     "metadata": {},
     "output_type": "execute_result"
    },
    {
     "data": {
      "image/png": "[encoded data removed]",
      "text/plain": [
       "<Figure size 432x288 with 1 Axes>"
      ]
     },
     "metadata": {
      "needs_background": "light"
     },
     "output_type": "display_data"
    }
   ],
   "source": [
    "im = plt.subplot()\n",
    "im.set_aspect('equal')\n",
    "im.scatter(pt[0], pt[1])"
   ]
  },
  {
   "cell_type": "markdown",
   "metadata": {},
   "source": [
    "### undistortion\n",
    "\\begin{eqnarray}\n",
    "x_d &=& \\frac{u_d - c_x}{f_x} \\\\\n",
    "y_d &=& \\frac{u_d - c_y}{f_y} \\\\\n",
    "r^2 &=& x^2 + y^2 \\\\\n",
    "\\theta &=& arctan(r, 1) \\\\\n",
    "\\theta_d &=& \\theta(1 + k_1 \\theta^2 + k_2 \\theta^4 + k_3 \\theta^6 + k_4 \\theta^8)\\\\\n",
    "x &=& \\frac{\\theta_d x_d}{r} \\\\\n",
    "y &=& \\frac{\\theta_d y_d}{r} \\\\\n",
    "u &=& \\hat{f_x} x + \\hat{c_x} \\\\\n",
    "v &=& \\hat{f_y} y + \\hat{c_y}\n",
    "\\end{eqnarray}\n",
    "\n",
    "### distortion (Solve a polynomial)\n",
    "\\begin{eqnarray}\n",
    "x &=& \\frac{u - c_x}{f_x} \\\\\n",
    "y &=& \\frac{u - c_y}{f_y} \\\\\n",
    "r^2 &=& x^2 + y^2\n",
    "\\end{eqnarray}\n",
    "\n",
    "calcrate eigenvalues of companion matrix \n",
    "\\begin{eqnarray}\n",
    "C = \n",
    "\\left[\n",
    "\\begin{array}{ccccccccc}\n",
    "0 & 0 & 0 & 0 & 0 & 0 & 0 & 0 & \\frac{r}{k_4}\\\\\n",
    "1 & 0 & 0 & 0 & 0 & 0 & 0 & 0 & -\\frac{1.0}{k_4}\\\\\n",
    "0 & 1 & 0 & 0 & 0 & 0 & 0 & 0 & 0\\\\\n",
    "0 & 0 & 1 & 0 & 0 & 0 & 0 & 0 & -\\frac{k_1}{k_4}\\\\\n",
    "0 & 0 & 0 & 1 & 0 & 0 & 0 & 0 & 0\\\\\n",
    "0 & 0 & 0 & 0 & 1 & 0 & 0 & 0 & -\\frac{k_2}{k_4}\\\\\n",
    "0 & 0 & 0 & 0 & 0 & 1 & 0 & 0 & 0\\\\\n",
    "0 & 0 & 0 & 0 & 0 & 0 & 1 & 0 & -\\frac{k_3}{k_4}\\\\ \n",
    "0 & 0 & 0 & 0 & 0 & 0 & 1 & 1 & 0\n",
    "\\end{array}\n",
    "\\right]\n",
    "\\end{eqnarray}\n",
    "\n",
    "\\begin{eqnarray}\n",
    "\\theta &=& \\mathrm{eigen values of} C \\\\\n",
    "\\phi &=& arctan2(y, x) \\\\\n",
    "p_x &=& sin(\\theta)sin(\\phi) \\\\\n",
    "p_y &=& sin(\\theta)cos(\\phi) \\\\\n",
    "p_z &=& cos(\\theta) \\\\\n",
    "\\bar{x} &=& \\frac{p_x}{p_z} \\\\\n",
    "\\bar{y} &=& \\frac{p_y}{p_z} \\\\\n",
    "u_d &=& f_x \\bar{x} + c_x \\\\\n",
    "v_d &=& f_y \\bar{y} + c_y\n",
    "\\end{eqnarray}"
   ]
  },
  {
   "cell_type": "code",
   "execution_count": 5,
   "metadata": {},
   "outputs": [],
   "source": [
    "def normalize(focal_length, principal_point, pt):\n",
    "    return (pt - principal_point.reshape(2,1)) / focal_length.reshape(2,1)\n",
    "\n",
    "def denormalize(focal_length, principal_point, uv):\n",
    "    return uv * focal_length.reshape(2,1) + principal_point.reshape(2,1)\n",
    "\n",
    "def distortion(dist, pts):\n",
    "    k1 = dist[0]\n",
    "    k2 = dist[1]\n",
    "    k3 = dist[2]\n",
    "    k4 = dist[3]\n",
    "    x = pts[0]\n",
    "    y = pts[1]\n",
    "    xx = x * x\n",
    "    yy = y * y\n",
    "    r = np.sqrt(xx + yy)\n",
    "    theta = np.arctan2(r, 1)    \n",
    "    theta2 = theta * theta\n",
    "    theta4 = theta2 * theta2\n",
    "    theta6 = theta2 + theta4\n",
    "    theta8 = theta4 * theta4\n",
    "    thetad = theta * (1 + k1 * theta2 + k2 * theta4 + k3 * theta6 + k4 * theta8)\n",
    "    scaling = np.where(r > 1e-8, thetad / r, 1.0)\n",
    "    return thetad / r * pts\n",
    "\n",
    "def undistortion(dist, duv):\n",
    "    tol = 1e-10\n",
    "    duv_norm = np.sqrt(duv[0] * duv[0] + duv[1] * duv[1])\n",
    "    num_elm = duv_norm.shape[0]\n",
    "    ray = np.zeros(duv.shape)\n",
    "    for i in range(num_elm):\n",
    "        if(duv_norm[i] < 1e-10):\n",
    "            phi = 0.0\n",
    "        else:\n",
    "            phi = np.arctan2(duv[1,i], duv[0,i])\n",
    "        # estimate theta by companin matrix\n",
    "        coeffs = np.array([-duv_norm[i], 1.0, 0, dist[0], 0, dist[1], 0, dist[2], 0, dist[3]]) / dist[3]\n",
    "        A = np.zeros([9,9])\n",
    "        A[1:9,0:8] = np.eye(8)\n",
    "        A[:,-1] = - coeffs[0:9]\n",
    "        eigen, _ = np.linalg.eig(A)\n",
    "        eigen = eigen.real[np.abs(eigen.imag) < tol]\n",
    "        eigen = eigen[eigen > -tol]\n",
    "        eigen = np.where(eigen < 0, 0.0, eigen)\n",
    "        \n",
    "        if(eigen.shape[0] == 0):\n",
    "            theta = duv_norm[i]\n",
    "        else:\n",
    "            theta = np.min(eigen)\n",
    "            \n",
    "        P0 = np.sin(theta) * np.cos(phi)\n",
    "        P1 = np.sin(theta) * np.sin(phi)\n",
    "        P2 = np.cos(theta)\n",
    "    \n",
    "        ray[:,i] = np.array([P0, P1]) / P2\n",
    "    return ray\n",
    "    \n",
    "    #mx_u = distortion(distortion_coefficients, duv)\n",
    "    #for i in range(n):\n",
    "    #    mx_u = duv - distortion(distortion_coefficients, mx_u)\n",
    "    #return mx_u\n",
    "    "
   ]
  },
  {
   "cell_type": "code",
   "execution_count": 6,
   "metadata": {},
   "outputs": [
    {
     "data": {
      "text/plain": [
       "<matplotlib.collections.PathCollection at 0x262e3bfa860>"
      ]
     },
     "execution_count": 6,
     "metadata": {},
     "output_type": "execute_result"
    },
    {
     "data": {
      "image/png": "[encoded data removed]",
      "text/plain": [
       "<Figure size 432x288 with 1 Axes>"
      ]
     },
     "metadata": {
      "needs_background": "light"
     },
     "output_type": "display_data"
    }
   ],
   "source": [
    "uv = normalize(focal_length, principal_point, pt)\n",
    "duv = distortion(distortion_coefficients, uv)\n",
    "dpt = denormalize(focal_length, principal_point, duv)\n",
    "\n",
    "im = plt.subplot()\n",
    "im.set_aspect('equal')\n",
    "im.scatter(dpt[0], dpt[1])"
   ]
  },
  {
   "cell_type": "code",
   "execution_count": 7,
   "metadata": {},
   "outputs": [
    {
     "data": {
      "text/plain": [
       "<matplotlib.collections.PathCollection at 0x262e3c62208>"
      ]
     },
     "execution_count": 7,
     "metadata": {},
     "output_type": "execute_result"
    },
    {
     "data": {
      "image/png": "[encoded data removed]",
      "text/plain": [
       "<Figure size 432x288 with 1 Axes>"
      ]
     },
     "metadata": {
      "needs_background": "light"
     },
     "output_type": "display_data"
    }
   ],
   "source": [
    "e_uv = undistortion(distortion_coefficients, duv)\n",
    "ept = denormalize(focal_length, principal_point, e_uv)\n",
    "\n",
    "im = plt.subplot()\n",
    "im.set_aspect('equal')\n",
    "im.scatter(ept[0], ept[1])"
   ]
  },
  {
   "cell_type": "code",
   "execution_count": 8,
   "metadata": {},
   "outputs": [
    {
     "data": {
      "text/plain": [
       "69.8792602445736"
      ]
     },
     "execution_count": 8,
     "metadata": {},
     "output_type": "execute_result"
    }
   ],
   "source": [
    "def norm(pt):\n",
    "    return np.sqrt(pt[0] * pt[0] + pt[1] * pt[1])\n",
    "\n",
    "np.max(norm(pt - ept))"
   ]
  }
 ],
 "metadata": {
  "kernelspec": {
   "display_name": "Python 3",
   "language": "python",
   "name": "python3"
  },
  "language_info": {
   "codemirror_mode": {
    "name": "ipython",
    "version": 3
   },
   "file_extension": ".py",
   "mimetype": "text/x-python",
   "name": "python",
   "nbconvert_exporter": "python",
   "pygments_lexer": "ipython3",
   "version": "3.6.8"
  }
 },
 "nbformat": 4,
 "nbformat_minor": 2
}
