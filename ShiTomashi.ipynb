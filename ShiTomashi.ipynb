{
 "cells": [
  {
   "cell_type": "markdown",
   "metadata": {},
   "source": [
    "### ShiTomashi Score"
   ]
  },
  {
   "cell_type": "code",
   "execution_count": null,
   "metadata": {},
   "outputs": [],
   "source": [
    "%matplotlib inline\n",
    "import cv2\n",
    "import numpy as np\n",
    "import random\n",
    "import math\n",
    "import matplotlib.pyplot as plt # matplotlibの描画系"
   ]
  },
  {
   "cell_type": "code",
   "execution_count": null,
   "metadata": {},
   "outputs": [],
   "source": [
    "def cv_imshow(color):\n",
    "    rgb = cv2.cvtColor(color, cv2.COLOR_BGR2RGB)\n",
    "    plt.imshow(rgb)\n",
    "    plt.show()"
   ]
  },
  {
   "cell_type": "code",
   "execution_count": null,
   "metadata": {},
   "outputs": [],
   "source": [
    "lena = cv2.imread(\"data/lena/Lena.png\")\n",
    "lena = cv2.resize(lena, (256, 256))\n",
    "cv_imshow(lena)\n",
    "grey = cv2.cvtColor(lena, cv2.COLOR_BGR2GRAY)"
   ]
  },
  {
   "cell_type": "markdown",
   "metadata": {},
   "source": [
    "探索ウィンドウ内の局所領域の勾配を$I_x$,$I_y$とする。それらから求まる以下の行列を\n",
    "\n",
    "$$ \n",
    "\\begin{eqnarray}\n",
    "  M\n",
    "  &=&\n",
    "  \\left(\n",
    "    \\begin{array}{c,c}\n",
    "      d_{xx}& d_{xy} \\\\\n",
    "      d_{xy}& d_{yy}\n",
    "    \\end{array}\n",
    "  \\right)\n",
    "  &=&\n",
    "  \\sum_{x,y}\n",
    "  \\left(\n",
    "    \\begin{array}{c,c}\n",
    "      I_xI_x & I_xI_y \\\\\n",
    "      I_xI_y & I_yI_y\n",
    "    \\end{array}\n",
    "  \\right)  \n",
    "\\end{eqnarray}\n",
    "$$ \n",
    "のように定義すると、ShiTomashi scoreは行列$M$の最小固有値となる。\n",
    "$$\n",
    "S_{ShiTomashi} = min(\\lambda_1, \\lambda_2)\n",
    "$$\n",
    "ちなみに、Harrisコーナーは\n",
    "$$\n",
    "S_{Harris} = \\lambda_1\\lambda_2 - k(\\lambda_1 + \\lambda_2)^2\n",
    "$$\n",
    "\n",
    "ここで、ShiTomashiは最小固有値だけを計算すれば良いので以下のように求まる。\n",
    "$$\n",
    "S_{ShiTomashi} = \\frac{(d_{xx} + d_{yy})-\\sqrt{(d_{xx} + d_{yy})^2-4(d_{xx}d_{yy} - d_{xy}^2})}{2}\n",
    "$$\n",
    "あとはソートして大きい値の特徴点を選ぶとか、しきい値以上の特徴点を選ぶということをして良い特徴点を得る。"
   ]
  },
  {
   "cell_type": "code",
   "execution_count": null,
   "metadata": {},
   "outputs": [],
   "source": [
    "#detect features\n",
    "detector = cv2.FastFeatureDetector_create()\n",
    "detector.setThreshold(50)\n",
    "detector.setNonmaxSuppression(True)\n",
    "keyPoints = detector.detect(lena)\n",
    "\n",
    "show_img = lena.copy()\n",
    "for kp in keyPoints:\n",
    "    pt = kp.pt\n",
    "    cv2.circle(show_img, (int(pt[0]), int(pt[1])), 5, (0, 255, 0))\n",
    "cv_imshow(show_img)"
   ]
  },
  {
   "cell_type": "code",
   "execution_count": null,
   "metadata": {},
   "outputs": [],
   "source": [
    "def shiTomashiScore(image, x, y):\n",
    "    u = int(x)\n",
    "    v = int(y)\n",
    "    half_box_size = 4\n",
    "    box_size = 2 * half_box_size\n",
    "    box_area = box_size * box_size \n",
    "    w = image.shape[0]\n",
    "    h = image.shape[1]\n",
    "    x_min = u - half_box_size\n",
    "    x_max = u + half_box_size\n",
    "    y_min = v - half_box_size\n",
    "    y_max = v + half_box_size\n",
    "    \n",
    "    if(x_min < 1 or x_max > w - 1 or y_min < 1 or y_max > h - 1):\n",
    "        return 0.0\n",
    "    \n",
    "    image_f = image.astype(np.float)\n",
    "    \n",
    "    top_p =  image_f[y_min - 1: y_max - 1, x_min: x_max]\n",
    "    bottom_p = image_f[y_min + 1: y_max + 1, x_min: x_max]\n",
    "    left_p =   image_f[y_min: y_max, x_min - 1: x_max - 1]\n",
    "    right_p =image_f[y_min: y_max, x_min + 1: x_max + 1]\n",
    "    dx_p = right_p - left_p\n",
    "    dy_p = bottom_p - top_p\n",
    "    dxx = (dx_p * dx_p).sum() / (2*box_area)\n",
    "    dyy = (dy_p * dy_p).sum() / (2*box_area)\n",
    "    dxy = (dx_p * dy_p).sum() / (2*box_area)\n",
    "    B = dxx + dyy\n",
    "    C = dxx * dyy - dxy * dxy\n",
    "    return 0.5 * (B - math.sqrt(B * B - 4 * C))\n",
    "    "
   ]
  },
  {
   "cell_type": "code",
   "execution_count": null,
   "metadata": {},
   "outputs": [],
   "source": [
    "show_img = lena.copy()\n",
    "score_list = []\n",
    "for pt in keyPoints:\n",
    "    score_list.append(shiTomashiScore(grey, pt.pt[0], pt.pt[1]))\n",
    "index_list = np.argsort(np.array(score_list))[::-1]\n",
    "\n",
    "for i in range(len(index_list)):\n",
    "    if i > 30:\n",
    "        break\n",
    "    pt = keyPoints[index_list[i]].pt\n",
    "    cv2.circle(show_img, (int(pt[0]), int(pt[1])), 5, (0, 255, 0))\n",
    "cv_imshow(show_img)"
   ]
  },
  {
   "cell_type": "markdown",
   "metadata": {},
   "source": [
    " * Copyright (c) 2018, tmako123\n",
    " * https://twitter.com/tmako123\n",
    " * http://blog.livedoor.jp/tmako123-programming/\n",
    " * All rights reserved.\n",
    " * This file is distributed under the GNU Lesser General Public License v3.0.\n",
    " * The complete license agreement can be obtained at:\n",
    " * http://www.gnu.org/licenses/lgpl-3.0.html"
   ]
  },
  {
   "cell_type": "code",
   "execution_count": null,
   "metadata": {},
   "outputs": [],
   "source": []
  }
 ],
 "metadata": {
  "kernelspec": {
   "display_name": "Python 3",
   "language": "python",
   "name": "python3"
  },
  "language_info": {
   "codemirror_mode": {
    "name": "ipython",
    "version": 3
   },
   "file_extension": ".py",
   "mimetype": "text/x-python",
   "name": "python",
   "nbconvert_exporter": "python",
   "pygments_lexer": "ipython3",
   "version": "3.6.5"
  }
 },
 "nbformat": 4,
 "nbformat_minor": 1
}
