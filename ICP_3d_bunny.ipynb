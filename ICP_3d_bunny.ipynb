{
 "cells": [
  {
   "cell_type": "markdown",
   "metadata": {},
   "source": [
    "### ICP\n",
    "\n",
    "#### 推定前\n",
    "<img src=\"ipynb_png/ICP_3d_bunny_before.png\">\n",
    "\n",
    "#### 推定後\n",
    "<img src=\"ipynb_png/ICP_3d_bunny_after.png\">\n"
   ]
  },
  {
   "cell_type": "code",
   "execution_count": 1,
   "metadata": {},
   "outputs": [],
   "source": [
    "from pyntcloud import PyntCloud\n",
    "import numpy as np\n",
    "import pandas as pd\n",
    "import cv2\n",
    "import math"
   ]
  },
  {
   "cell_type": "code",
   "execution_count": 2,
   "metadata": {},
   "outputs": [],
   "source": [
    "#同次座標系に関する関数\n",
    "def makeHomogeneous(vector):\n",
    "    rows,cols = vector.shape[:2]\n",
    "    ones = [np.ones(cols)]\n",
    "    return np.r_[vector, ones]\n",
    "    \n",
    "def delHomogeneous(vector):\n",
    "    rows,cols = vector.shape[:2]\n",
    "    val = vector[:rows-1]\n",
    "    dim = vector[rows-1:]\n",
    "    return val / dim\n",
    "\n",
    "def sampling3d(point3d, samples):\n",
    "    indexes = np.random.randint(0, point3d.shape[0], samples)\n",
    "    return point3d[indexes]\n",
    "\n",
    "#三次元回転行列生成に関する関数\n",
    "    # 物体座標系の 1->2->3 軸で回転させる\n",
    "def generateRotationMatrix(r):\n",
    "    px = r[0]\n",
    "    py = r[1]\n",
    "    pz = r[2]\n",
    "    \n",
    "    Rx = np.array([[1, 0, 0],\n",
    "            [0, np.cos(px), np.sin(px)],\n",
    "            [0, -np.sin(px), np.cos(px)]])\n",
    "    Ry = np.array([[np.cos(py), 0, -np.sin(py)],\n",
    "            [0, 1, 0],\n",
    "            [np.sin(py), 0, np.cos(py)]])\n",
    "    Rz = np.array([[np.cos(pz), np.sin(pz), 0],\n",
    "            [-np.sin(pz), np.cos(pz), 0],\n",
    "            [0, 0, 1]])\n",
    "    R = Rz.dot(Ry).dot(Rx)\n",
    "    return R\n",
    "\n",
    "def generateTransMatrix(t, r):\n",
    "    R = generateRotationMatrix(r)\n",
    "    transMatrix = np.eye(4,4)\n",
    "    for y in range(0,3):\n",
    "        for x in range(0,3):\n",
    "            transMatrix[y, x] = R[y, x]\n",
    "        transMatrix[y, 3] = t[y]\n",
    "    return transMatrix\n",
    "\n",
    "def generatePyntCloud(point3d):\n",
    "    \"\"\"numpy形式の3d点群からpyntcloud用データを生成する。\n",
    "       @param[in] point3d [[x,y,z],...] \n",
    "    \"\"\"\n",
    "    w_color = False\n",
    "    if(point3d.shape[1] == 6):\n",
    "        w_color = True\n",
    "    points = pd.DataFrame(point3d)\n",
    "\n",
    "    if(w_color == False):\n",
    "        points.columns = ['x', 'y', 'z']\n",
    "    else:\n",
    "        points.columns = ['x', 'y', 'z', 'blue', 'green', 'red']\n",
    "    cloud = PyntCloud(points)\n",
    "    return cloud\n",
    "\n",
    "def axisPyntCloud(scale):\n",
    "    # color, [vertexes]\n",
    "    lines = {\n",
    "        '0xFF0000': [[0, 0, 0], [scale, 0, 0]],\n",
    "        '0x00FF00': [[0, 0, 0], [0, scale, 0]],\n",
    "        '0x0000FF': [[0, 0, 0], [0, 0, scale]]\n",
    "    }\n",
    "    return lines\n",
    "\n",
    "def addColor(point3d, color):\n",
    "    return np.concatenate((point3d, np.ones(point3d.shape) * np.array(color)) ,axis=1)\n",
    "\n",
    "def warp3d(point3d, M):\n",
    "    h_point3d = makeHomogeneous(point3d)\n",
    "    h_w_point3d = M.dot(h_point3d)\n",
    "    return delHomogeneous(h_w_point3d)\n"
   ]
  },
  {
   "cell_type": "code",
   "execution_count": 12,
   "metadata": {
    "scrolled": false
   },
   "outputs": [],
   "source": [
    "#bunnyのデータを読み込み、重心中心に移動する\n",
    "cloud = PyntCloud.from_file(\"data/stanford/bun_zipper.ply\")\n",
    "point3d = sampling3d(cloud.get_mesh_vertices()[0], 1000)\n",
    "point3d = point3d - np.mean(point3d, axis = 0)\n",
    "cloud = generatePyntCloud(addColor(point3d, [0, 255, 255]))\n",
    "cloud.plot(point_size=0.002, opacity=1.0, polylines=axisPyntCloud(0.1))\n",
    "\n",
    "#観測データ（別の点群セット)\n",
    "cloud = PyntCloud.from_file(\"data/stanford/bun_zipper.ply\")\n",
    "point3d_2 = sampling3d(cloud.get_mesh_vertices()[0], 1000)\n",
    "point3d_2 = point3d_2 - np.mean(point3d_2, axis = 0)"
   ]
  },
  {
   "cell_type": "code",
   "execution_count": 13,
   "metadata": {
    "scrolled": false
   },
   "outputs": [
    {
     "data": {
      "text/html": [
       "\n",
       "        <iframe\n",
       "            width=\"800\"\n",
       "            height=\"500\"\n",
       "            src=\"pyntcloud_plot.html\"\n",
       "            frameborder=\"0\"\n",
       "            allowfullscreen\n",
       "        ></iframe>\n",
       "        "
      ],
      "text/plain": [
       "<IPython.lib.display.IFrame at 0x1dbaf802080>"
      ]
     },
     "execution_count": 13,
     "metadata": {},
     "output_type": "execute_result"
    }
   ],
   "source": [
    "#モデルデータ生成\n",
    "obj = point3d.T\n",
    "obj2 = point3d_2.T\n",
    "\n",
    "#観測データ生成\n",
    "#位置姿勢の初期値（ランダム）\n",
    "t = np.random.randn(3)*0.03\n",
    "p = np.random.randn(3) * np.pi / 16\n",
    "dM = generateTransMatrix(t, p)\n",
    "\n",
    "obs = warp3d(obj2, dM)\n",
    "cloud = generatePyntCloud(np.concatenate((addColor(obs.T, [0, 255, 255]), addColor(obj.T,[0, 255, 0]))))\n",
    "cloud.plot(point_size=0.002, opacity=1.0, polylines=axisPyntCloud(0.1))"
   ]
  },
  {
   "cell_type": "code",
   "execution_count": 14,
   "metadata": {},
   "outputs": [],
   "source": [
    "#objと最近傍のobs点を算出する\n",
    "def findCrsp(obj, obs):\n",
    "    query = np.empty((3,0))\n",
    "    target = np.empty((3,0))\n",
    "    for i in range(obj.shape[1]):\n",
    "        dist_ = np.linalg.norm(obs.T - obj.T[i], axis = 1)\n",
    "        minId = np.argmin(dist_)\n",
    "        query = np.concatenate((query, obj.T[i].reshape(3,1)), axis = 1)\n",
    "        target = np.concatenate((target, obs.T[minId].reshape(3,1)), axis = 1)\n",
    "    return query, target"
   ]
  },
  {
   "cell_type": "code",
   "execution_count": 15,
   "metadata": {},
   "outputs": [],
   "source": [
    "#ヤコビアン計算\n",
    "def calcJacob(obj, obs, deltaPose, JtJ, JtE):\n",
    "    if obj.shape[1] != obs.shape[1]:\n",
    "        print (\"ERROR data size is not the same!\")\n",
    "    #座標変換\n",
    "    #obj_h = makeHomogeneous(obj)\n",
    "    #obs_h = deltaPose.dot(obj_h)\n",
    "    #est = delHomogeneous(obs_h)\n",
    "    est = obj\n",
    "    \n",
    "    for (p, q) in zip(est.transpose(), obs.transpose()):\n",
    "        X = p[0]\n",
    "        Y = p[1]\n",
    "        Z = p[2]\n",
    "        ex = q[0] - p[0]\n",
    "        ey = q[1] - p[1]\n",
    "        ez = q[2] - p[2]\n",
    "        \n",
    "        JtJ[0,0] += 1.0\n",
    "        JtJ[0,4] += Z\n",
    "        JtJ[0,5] += -Y\n",
    "        JtJ[1,1] += 1.0\n",
    "        JtJ[1,3] += -Z\n",
    "        JtJ[1,5] += X\n",
    "        JtJ[2,2] += 1.0\n",
    "        JtJ[2,3] += Y\n",
    "        JtJ[2,4] += -Z\n",
    "        JtJ[3,3] += Y*Y + Z*Z\n",
    "        JtJ[3,4] += -X * Y\n",
    "        JtJ[3,5] += -X * Z\n",
    "        JtJ[4,4] += X*X + Z*Z\n",
    "        JtJ[4,5] += -Y * Z\n",
    "        JtJ[5,5] += X*X + Y*Y\n",
    "        \n",
    "        JtE[0,0] += ex\n",
    "        JtE[1,0] += ey\n",
    "        JtE[2,0] += ez\n",
    "        JtE[3,0] += -Z * ey + Y * ez\n",
    "        JtE[4,0] += Z * ex - X * ez\n",
    "        JtE[5,0] += -Y * ex + X * ey\n",
    "    \n",
    "    #fill\n",
    "    JtJ[1,0] = JtJ[0,1]\n",
    "    JtJ[2,0] = JtJ[0,2]\n",
    "    JtJ[2,1] = JtJ[1,2]\n",
    "    JtJ[3,0] = JtJ[0,3]\n",
    "    JtJ[3,1] = JtJ[1,3]\n",
    "    JtJ[3,2] = JtJ[2,3]\n",
    "    JtJ[4,0] = JtJ[0,4]\n",
    "    JtJ[4,1] = JtJ[1,4]\n",
    "    JtJ[4,2] = JtJ[2,4]\n",
    "    JtJ[4,3] = JtJ[3,4]\n",
    "    JtJ[5,0] = JtJ[0,5]\n",
    "    JtJ[5,1] = JtJ[1,5]\n",
    "    JtJ[5,2] = JtJ[2,5]\n",
    "    JtJ[5,3] = JtJ[3,5]\n",
    "    JtJ[5,4] = JtJ[4,5]"
   ]
  },
  {
   "cell_type": "code",
   "execution_count": 16,
   "metadata": {},
   "outputs": [],
   "source": [
    "def calcPose3D(obj, obs, deltaPose):\n",
    "    #ヤコビ行列生成\n",
    "    JtJ = np.zeros((6,6))\n",
    "    JtE = np.zeros((6,1))\n",
    "    calcJacob(obj, obs, deltaPose, JtJ, JtE)\n",
    "    \n",
    "    #solve\n",
    "    x = np.linalg.solve(JtJ, JtE)\n",
    "    t = x[0:3]\n",
    "    omega = x[3:6]\n",
    "\n",
    "    #補正量計算\n",
    "    angle = math.sqrt(omega[0]*omega[0] + omega[1]*omega[1]+omega[2]*omega[2])\n",
    "    dR = np.eye(3,3)\n",
    "    if angle < 1.0e-12:\n",
    "        print (\"rot small\")\n",
    "    else:\n",
    "        dR[0,1] = -omega[2]\n",
    "        dR[0,2] = omega[1]\n",
    "        dR[1,0] = omega[2]\n",
    "        dR[1,2] = -omega[0]\n",
    "        dR[2,0] = -omega[1]\n",
    "        dR[2,1] = omega[0]\n",
    "    \n",
    "    #行列生成\n",
    "    transMatrix = np.eye(4,4)\n",
    "    for y in range(0,3):\n",
    "        for x in range(0,3):\n",
    "            transMatrix[y, x] = dR[y, x]\n",
    "        transMatrix[y, 3] = t[y]\n",
    "    return transMatrix"
   ]
  },
  {
   "cell_type": "code",
   "execution_count": 17,
   "metadata": {},
   "outputs": [
    {
     "name": "stdout",
     "output_type": "stream",
     "text": [
      "[[ 0.9859107  -0.14821998  0.10089065  0.03214347]\n",
      " [ 0.14226443  0.98941338  0.07220219  0.00408517]\n",
      " [-0.10994735 -0.05806947  0.99342661  0.01181983]\n",
      " [ 0.          0.          0.          1.        ]]\n",
      "[[ 0.96633217 -0.21741747  0.13759277  0.03598379]\n",
      " [ 0.21094339  0.97564388  0.06018223  0.00194924]\n",
      " [-0.14732621 -0.02913174  0.98865885  0.01172909]\n",
      " [ 0.          0.          0.          1.        ]]\n"
     ]
    }
   ],
   "source": [
    "estPose = np.eye(4,4)\n",
    "for i in range(10):\n",
    "    w_obj = warp3d(obj, estPose)\n",
    "    query, target = findCrsp(w_obj, obs)\n",
    "    deltaPose = calcPose3D(query, target, estPose)\n",
    "    estPose = deltaPose.dot(estPose)\n",
    "print(estPose)\n",
    "print(dM)"
   ]
  },
  {
   "cell_type": "code",
   "execution_count": 18,
   "metadata": {},
   "outputs": [
    {
     "data": {
      "text/html": [
       "\n",
       "        <iframe\n",
       "            width=\"800\"\n",
       "            height=\"500\"\n",
       "            src=\"pyntcloud_plot.html\"\n",
       "            frameborder=\"0\"\n",
       "            allowfullscreen\n",
       "        ></iframe>\n",
       "        "
      ],
      "text/plain": [
       "<IPython.lib.display.IFrame at 0x1dbaf840128>"
      ]
     },
     "execution_count": 18,
     "metadata": {},
     "output_type": "execute_result"
    }
   ],
   "source": [
    "est = warp3d(obj, estPose)\n",
    "cloud = generatePyntCloud(np.concatenate((addColor(est.T, [0, 255, 255]), addColor(obs.T,[0, 255, 0]))))\n",
    "cloud.plot(point_size=0.002, opacity=1.0, polylines=axisPyntCloud(0.1))"
   ]
  },
  {
   "cell_type": "markdown",
   "metadata": {
    "collapsed": true
   },
   "source": [
    " * Copyright (c) 2018, tmako123\n",
    " * https://twitter.com/tmako123\n",
    " * http://blog.livedoor.jp/tmako123-programming/\n",
    " * All rights reserved.\n",
    " * This file is distributed under the GNU Lesser General Public License v3.0.\n",
    " * The complete license agreement can be obtained at:\n",
    " * http://www.gnu.org/licenses/lgpl-3.0.html"
   ]
  }
 ],
 "metadata": {
  "kernelspec": {
   "display_name": "Python 3",
   "language": "python",
   "name": "python3"
  },
  "language_info": {
   "codemirror_mode": {
    "name": "ipython",
    "version": 3
   },
   "file_extension": ".py",
   "mimetype": "text/x-python",
   "name": "python",
   "nbconvert_exporter": "python",
   "pygments_lexer": "ipython3",
   "version": "3.6.8"
  }
 },
 "nbformat": 4,
 "nbformat_minor": 2
}
